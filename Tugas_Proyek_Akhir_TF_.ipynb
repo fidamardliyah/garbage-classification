{
  "nbformat": 4,
  "nbformat_minor": 0,
  "metadata": {
    "colab": {
      "name": "Tugas Proyek Akhir TF .ipynb",
      "provenance": [],
      "collapsed_sections": []
    },
    "kernelspec": {
      "display_name": "Python 3",
      "name": "python3"
    },
    "language_info": {
      "name": "python"
    }
  },
  "cells": [
    {
      "cell_type": "markdown",
      "metadata": {
        "id": "INdgjMViAamz"
      },
      "source": [
        "#Biodata"
      ]
    },
    {
      "cell_type": "markdown",
      "metadata": {
        "id": "YkqtnoKmAPkM"
      },
      "source": [
        "**Fida Mardliyah // fidamardliyah11@gmail.com**\n",
        "\n",
        "Sumber Data : https://www.kaggle.com/mostafaabla/garbage-classification\n"
      ]
    },
    {
      "cell_type": "markdown",
      "metadata": {
        "id": "VLdh2nuZAnk2"
      },
      "source": [
        "# Import Data"
      ]
    },
    {
      "cell_type": "markdown",
      "metadata": {
        "id": "Y6qPrJKkAsjS"
      },
      "source": [
        "## Install Kaggle & Ynzip Data"
      ]
    },
    {
      "cell_type": "code",
      "metadata": {
        "id": "k5HCrKNgAmx8"
      },
      "source": [
        "!pip install -q kaggle"
      ],
      "execution_count": 1,
      "outputs": []
    },
    {
      "cell_type": "code",
      "metadata": {
        "id": "J97werr2AYgb"
      },
      "source": [
        "! mkdir ~/.kaggle"
      ],
      "execution_count": 2,
      "outputs": []
    },
    {
      "cell_type": "code",
      "metadata": {
        "id": "QfljVMrv_muz"
      },
      "source": [
        "! cp kaggle.json ~/.kaggle/"
      ],
      "execution_count": 3,
      "outputs": []
    },
    {
      "cell_type": "code",
      "metadata": {
        "id": "78V1SfVnNseZ"
      },
      "source": [
        "! chmod 600 ~/.kaggle/kaggle.json"
      ],
      "execution_count": 4,
      "outputs": []
    },
    {
      "cell_type": "code",
      "metadata": {
        "colab": {
          "base_uri": "https://localhost:8080/"
        },
        "id": "Kx6or8EZOsSR",
        "outputId": "ab7703d1-710e-4bab-c0ef-535f59bd3a26"
      },
      "source": [
        "! kaggle datasets download -d mostafaabla/garbage-classification"
      ],
      "execution_count": 5,
      "outputs": [
        {
          "output_type": "stream",
          "name": "stdout",
          "text": [
            "Downloading garbage-classification.zip to /content\n",
            "100% 239M/239M [00:02<00:00, 117MB/s] \n",
            "100% 239M/239M [00:02<00:00, 91.9MB/s]\n"
          ]
        }
      ]
    },
    {
      "cell_type": "code",
      "metadata": {
        "id": "yeYl-2c2PDQ5"
      },
      "source": [
        "! mkdir sampah"
      ],
      "execution_count": 6,
      "outputs": []
    },
    {
      "cell_type": "code",
      "metadata": {
        "colab": {
          "base_uri": "https://localhost:8080/"
        },
        "id": "g_lM8p_jBHyi",
        "outputId": "83a68457-f154-4c25-819a-85a8ee71b2ba"
      },
      "source": [
        "! unzip -qq garbage-classification.zip -d sampah\n",
        "!ls sampah"
      ],
      "execution_count": 7,
      "outputs": [
        {
          "output_type": "stream",
          "name": "stdout",
          "text": [
            "garbage_classification\n"
          ]
        }
      ]
    },
    {
      "cell_type": "code",
      "metadata": {
        "colab": {
          "base_uri": "https://localhost:8080/"
        },
        "id": "OT0JwHgJBYOU",
        "outputId": "121f1a08-16c1-4136-fc41-dfe1c7d70000"
      },
      "source": [
        "!ls sampah/garbage_classification"
      ],
      "execution_count": 8,
      "outputs": [
        {
          "output_type": "stream",
          "name": "stdout",
          "text": [
            "battery     brown-glass  clothes      metal  plastic  trash\n",
            "biological  cardboard\t green-glass  paper  shoes    white-glass\n"
          ]
        }
      ]
    },
    {
      "cell_type": "code",
      "metadata": {
        "id": "lQCOtXwpBoCW"
      },
      "source": [
        "import os\n",
        "garbages =  os.path.join(\"/content/sampah/garbage_classification\")"
      ],
      "execution_count": 9,
      "outputs": []
    },
    {
      "cell_type": "code",
      "metadata": {
        "id": "zrebl0JCBMVO"
      },
      "source": [
        "list_garbages = os.listdir(garbages)"
      ],
      "execution_count": 10,
      "outputs": []
    },
    {
      "cell_type": "code",
      "metadata": {
        "colab": {
          "base_uri": "https://localhost:8080/"
        },
        "id": "KVB06WGNCi2I",
        "outputId": "244d9ec6-8d08-4353-9150-5f7fd8e599b2"
      },
      "source": [
        "print(list_garbages)"
      ],
      "execution_count": 11,
      "outputs": [
        {
          "output_type": "stream",
          "name": "stdout",
          "text": [
            "['green-glass', 'shoes', 'plastic', 'battery', 'cardboard', 'clothes', 'biological', 'trash', 'white-glass', 'paper', 'metal', 'brown-glass']\n"
          ]
        }
      ]
    },
    {
      "cell_type": "markdown",
      "metadata": {
        "id": "xbIZNHD-2zhT"
      },
      "source": [
        "## Memilih variabel yang digunakan"
      ]
    },
    {
      "cell_type": "code",
      "metadata": {
        "id": "JGmuH-hk2u-e"
      },
      "source": [
        "import shutil"
      ],
      "execution_count": 12,
      "outputs": []
    },
    {
      "cell_type": "code",
      "metadata": {
        "id": "rTeqreRe27Il"
      },
      "source": [
        "hapus = ['green-glass', 'brown-glass', 'shoes']\n",
        "\n",
        "for x in hapus:\n",
        "  path = os.path.join(garbages, x)\n",
        "  shutil.rmtree(path)"
      ],
      "execution_count": 13,
      "outputs": []
    },
    {
      "cell_type": "code",
      "metadata": {
        "colab": {
          "base_uri": "https://localhost:8080/"
        },
        "id": "cDOH2m5g2-im",
        "outputId": "a1ada7f9-8136-4e25-e922-fe52d407c70c"
      },
      "source": [
        "list_garbages = os.listdir(garbages)\n",
        "print(list_garbages)"
      ],
      "execution_count": 14,
      "outputs": [
        {
          "output_type": "stream",
          "name": "stdout",
          "text": [
            "['plastic', 'battery', 'cardboard', 'clothes', 'biological', 'trash', 'white-glass', 'paper', 'metal']\n"
          ]
        }
      ]
    },
    {
      "cell_type": "markdown",
      "metadata": {
        "id": "5_guowW3B4AG"
      },
      "source": [
        "## Image Understanding"
      ]
    },
    {
      "cell_type": "code",
      "metadata": {
        "id": "EVrbf19zCpOU"
      },
      "source": [
        "from PIL import Image\n",
        "jumlah = 0"
      ],
      "execution_count": 21,
      "outputs": []
    },
    {
      "cell_type": "code",
      "metadata": {
        "colab": {
          "base_uri": "https://localhost:8080/"
        },
        "id": "gDHjfNYqBEnk",
        "outputId": "16ada588-7d9e-4c35-e055-e7bb6bb4f2ba"
      },
      "source": [
        "for x in list_garbages:\n",
        "  dc = os.path.join(garbages, x)\n",
        "  y = len(os.listdir(dc))\n",
        "  print(x + ':', y)\n",
        "  jumlah = jumlah + y\n",
        "\n",
        "  namagbr = os.listdir(dc)\n",
        "  for z in range(4):\n",
        "    gbr_dc = os.path.join(dc, namagbr[z])\n",
        "    gbr = Image.open(gbr_dc)\n",
        "    print('ukuran', gbr.size)  \n",
        "  print('/////////////////')\n",
        "\n",
        "print('\\nTotal Gambar :', jumlah)"
      ],
      "execution_count": 22,
      "outputs": [
        {
          "output_type": "stream",
          "name": "stdout",
          "text": [
            "plastic: 865\n",
            "ukuran (512, 384)\n",
            "ukuran (169, 299)\n",
            "ukuran (512, 384)\n",
            "ukuran (225, 225)\n",
            "/////////////////\n",
            "battery: 945\n",
            "ukuran (300, 168)\n",
            "ukuran (225, 225)\n",
            "ukuran (225, 225)\n",
            "ukuran (225, 225)\n",
            "/////////////////\n",
            "cardboard: 891\n",
            "ukuran (512, 384)\n",
            "ukuran (512, 384)\n",
            "ukuran (259, 194)\n",
            "ukuran (273, 185)\n",
            "/////////////////\n",
            "clothes: 5325\n",
            "ukuran (400, 400)\n",
            "ukuran (400, 534)\n",
            "ukuran (400, 400)\n",
            "ukuran (400, 468)\n",
            "/////////////////\n",
            "biological: 985\n",
            "ukuran (259, 194)\n",
            "ukuran (274, 184)\n",
            "ukuran (285, 177)\n",
            "ukuran (276, 183)\n",
            "/////////////////\n",
            "trash: 697\n",
            "ukuran (275, 183)\n",
            "ukuran (275, 183)\n",
            "ukuran (225, 225)\n",
            "ukuran (238, 212)\n",
            "/////////////////\n",
            "white-glass: 775\n",
            "ukuran (170, 297)\n",
            "ukuran (206, 245)\n",
            "ukuran (225, 225)\n",
            "ukuran (512, 384)\n",
            "/////////////////\n",
            "paper: 1050\n",
            "ukuran (512, 384)\n",
            "ukuran (512, 384)\n",
            "ukuran (512, 384)\n",
            "ukuran (512, 384)\n",
            "/////////////////\n",
            "metal: 769\n",
            "ukuran (512, 384)\n",
            "ukuran (208, 243)\n",
            "ukuran (235, 215)\n",
            "ukuran (512, 384)\n",
            "/////////////////\n",
            "\n",
            "Total Gambar : 12302\n"
          ]
        }
      ]
    },
    {
      "cell_type": "markdown",
      "metadata": {
        "id": "L2pmII0ptdZz"
      },
      "source": [
        "# Split Data\n"
      ]
    },
    {
      "cell_type": "code",
      "metadata": {
        "colab": {
          "base_uri": "https://localhost:8080/"
        },
        "id": "QQGG8EpZ24WY",
        "outputId": "f0482cfb-20b6-47ca-f91a-414dccb87360"
      },
      "source": [
        "!pip install split_folders"
      ],
      "execution_count": 15,
      "outputs": [
        {
          "output_type": "stream",
          "name": "stdout",
          "text": [
            "Collecting split_folders\n",
            "  Downloading split_folders-0.4.3-py3-none-any.whl (7.4 kB)\n",
            "Installing collected packages: split-folders\n",
            "Successfully installed split-folders-0.4.3\n"
          ]
        }
      ]
    },
    {
      "cell_type": "code",
      "metadata": {
        "colab": {
          "base_uri": "https://localhost:8080/"
        },
        "id": "tfRadsIS3Hj6",
        "outputId": "5d050ca9-4c06-4e0f-dd0c-21fdc848ba62"
      },
      "source": [
        "# data training : data validasi =  8:2\n",
        "\n",
        "import splitfolders\n",
        "\n",
        "splitfolders.ratio('/content/sampah/garbage_classification', '/content/sampah/data', seed=1, ratio=(.8, .2))"
      ],
      "execution_count": 17,
      "outputs": [
        {
          "output_type": "stream",
          "name": "stderr",
          "text": [
            "\n",
            "Copying files: 0 files [00:00, ? files/s]\u001b[A\n",
            "Copying files: 571 files [00:00, 5705.34 files/s]\u001b[A\n",
            "Copying files: 1142 files [00:00, 5465.26 files/s]\u001b[A\n",
            "Copying files: 1811 files [00:00, 4830.38 files/s]\u001b[A\n",
            "Copying files: 2525 files [00:00, 5612.16 files/s]\u001b[A\n",
            "Copying files: 3107 files [00:00, 4441.91 files/s]\u001b[A\n",
            "Copying files: 3706 files [00:00, 4853.90 files/s]\u001b[A\n",
            "Copying files: 4323 files [00:00, 5216.16 files/s]\u001b[A\n",
            "Copying files: 4892 files [00:00, 5349.80 files/s]\u001b[A\n",
            "Copying files: 5475 files [00:01, 5486.50 files/s]\u001b[A\n",
            "Copying files: 6042 files [00:01, 5264.74 files/s]\u001b[A\n",
            "Copying files: 6582 files [00:01, 3878.87 files/s]\u001b[A\n",
            "Copying files: 7029 files [00:01, 3749.04 files/s]\u001b[A\n",
            "Copying files: 7444 files [00:01, 3585.85 files/s]\u001b[A\n",
            "Copying files: 7861 files [00:01, 3723.76 files/s]\u001b[A\n",
            "Copying files: 8256 files [00:01, 3681.50 files/s]\u001b[A\n",
            "Copying files: 8839 files [00:01, 4239.57 files/s]\u001b[A\n",
            "Copying files: 9414 files [00:02, 4647.86 files/s]\u001b[A\n",
            "Copying files: 10006 files [00:02, 5001.96 files/s]\u001b[A\n",
            "Copying files: 10571 files [00:02, 5185.37 files/s]\u001b[A\n",
            "Copying files: 11185 files [00:02, 5461.32 files/s]\u001b[A\n",
            "Copying files: 12302 files [00:02, 4818.43 files/s]\n"
          ]
        }
      ]
    },
    {
      "cell_type": "markdown",
      "metadata": {
        "id": "xvamNLfSt0FL"
      },
      "source": [
        "## Penamaan Direktori"
      ]
    },
    {
      "cell_type": "code",
      "metadata": {
        "colab": {
          "base_uri": "https://localhost:8080/"
        },
        "id": "pcKWx_yM3iFC",
        "outputId": "ac63d854-dab6-43fc-9757-568587d2f83a"
      },
      "source": [
        "base_dir = '/content/sampah/data'\n",
        "train_dir = os.path.join(base_dir, 'train')\n",
        "validation_dir = os.path.join(base_dir, 'val')\n",
        "os.listdir('/content/sampah/data/train')\n",
        "os.listdir('/content/sampah/data/val')"
      ],
      "execution_count": 18,
      "outputs": [
        {
          "output_type": "execute_result",
          "data": {
            "text/plain": [
              "['plastic',\n",
              " 'battery',\n",
              " 'cardboard',\n",
              " 'clothes',\n",
              " 'biological',\n",
              " 'trash',\n",
              " 'white-glass',\n",
              " 'paper',\n",
              " 'metal']"
            ]
          },
          "metadata": {},
          "execution_count": 18
        }
      ]
    },
    {
      "cell_type": "markdown",
      "metadata": {
        "id": "AZE6HCwct1rT"
      },
      "source": [
        "#Direktori train and val"
      ]
    },
    {
      "cell_type": "code",
      "metadata": {
        "id": "tY2fPDGf3zjo"
      },
      "source": [
        "#train\n",
        "train_plastic_dir = os.path.join(train_dir, 'plastic')\n",
        "train_battery_dir = os.path.join(train_dir, 'battery')\n",
        "train_cardboard_dir = os.path.join(train_dir, 'cardboard')\n",
        "train_clothes_dir = os.path.join(train_dir, 'clothes')\n",
        "train_biological_dir = os.path.join(train_dir, 'biological')\n",
        "train_trash_dir = os.path.join(train_dir, 'trash')\n",
        "train_whiteglass_dir = os.path.join(train_dir, 'white-glass')\n",
        "train_paper_dir = os.path.join(train_dir, 'paper')\n",
        "train_metal_dir = os.path.join(train_dir, 'metal')\n",
        "\n",
        "\n",
        "# validation\n",
        "validation_plastic_dir = os.path.join(validation_dir, 'plastic')\n",
        "validation_battery_dir = os.path.join(validation_dir, 'battery')\n",
        "validation_cardboard_dir = os.path.join(validation_dir, 'cardboard')\n",
        "validation_clothes_dir = os.path.join(validation_dir, 'clothes')\n",
        "validation_biological_dir = os.path.join(validation_dir, 'biological')\n",
        "validation_trash_dir = os.path.join(validation_dir, 'trash')\n",
        "validation_whiteglass_dir = os.path.join(validation_dir, 'white-glass')\n",
        "validation_paper_dir = os.path.join(validation_dir, 'paper')\n",
        "validation_metal_dir = os.path.join(validation_dir, 'metal')"
      ],
      "execution_count": 20,
      "outputs": []
    },
    {
      "cell_type": "markdown",
      "metadata": {
        "id": "0Vm2kwEcC3-W"
      },
      "source": [
        "# Augmentasi Image"
      ]
    },
    {
      "cell_type": "code",
      "metadata": {
        "id": "ZxwU1g0YHUJn"
      },
      "source": [
        "import tensorflow as tf"
      ],
      "execution_count": 23,
      "outputs": []
    },
    {
      "cell_type": "code",
      "metadata": {
        "id": "dpVy6x-SsnrQ"
      },
      "source": [
        "from tensorflow.keras.preprocessing.image import ImageDataGenerator\n",
        "\n",
        "train_gen = ImageDataGenerator(\n",
        "                    rescale=1./255,\n",
        "                    rotation_range = 50,\n",
        "                    horizontal_flip =True,\n",
        "                    shear_range = 0.2,\n",
        "                    zoom_range = 0.2,\n",
        "                    fill_mode = 'nearest'\n",
        ")"
      ],
      "execution_count": 24,
      "outputs": []
    },
    {
      "cell_type": "markdown",
      "metadata": {
        "id": "peqoPQNAIB9W"
      },
      "source": [
        "# Generator Image"
      ]
    },
    {
      "cell_type": "code",
      "metadata": {
        "colab": {
          "base_uri": "https://localhost:8080/"
        },
        "id": "22Vbx9vJ5c86",
        "outputId": "186de5da-7f79-4ee8-c883-f79f36005426"
      },
      "source": [
        "train_generator = train_gen.flow_from_directory(\n",
        "    train_dir,\n",
        "    target_size = (150,150),\n",
        "    class_mode = 'categorical',\n",
        "    batch_size = 16,\n",
        "    shuffle = True,\n",
        "    seed=123\n",
        ")\n",
        "\n",
        "val_generator = train_gen.flow_from_directory(\n",
        "    validation_dir,\n",
        "    target_size = (150,150),\n",
        "    class_mode = \"categorical\",\n",
        "    batch_size = 16,\n",
        "    shuffle = True,\n",
        "    seed=123\n",
        ")"
      ],
      "execution_count": 26,
      "outputs": [
        {
          "output_type": "stream",
          "name": "stdout",
          "text": [
            "Found 9840 images belonging to 9 classes.\n",
            "Found 2462 images belonging to 9 classes.\n"
          ]
        }
      ]
    },
    {
      "cell_type": "markdown",
      "metadata": {
        "id": "j7T5mZY5Id4x"
      },
      "source": [
        "# Modelling"
      ]
    },
    {
      "cell_type": "code",
      "metadata": {
        "id": "XZUvAKEbToa2"
      },
      "source": [
        "from tensorflow.keras.models import Sequential\n",
        "from tensorflow.keras.layers import Conv2D, MaxPooling2D, Activation, Dense, Flatten\n",
        "from tensorflow.keras.layers import Dropout\n",
        "from tensorflow.keras.optimizers import Adam\n",
        "from tensorflow.keras.callbacks import EarlyStopping"
      ],
      "execution_count": 27,
      "outputs": []
    },
    {
      "cell_type": "markdown",
      "metadata": {
        "id": "XNGi7GiyItgM"
      },
      "source": [
        "## Sequential"
      ]
    },
    {
      "cell_type": "code",
      "metadata": {
        "id": "m0b3qCtK7kXq"
      },
      "source": [
        "model = Sequential([\n",
        "    Conv2D(16, (3,3), activation='relu', input_shape=(150, 150, 3)),\n",
        "    MaxPooling2D(3,3),\n",
        "    Conv2D(64, (3,3), activation='relu'),\n",
        "    MaxPooling2D(3,3),\n",
        "    Conv2D(64, (3,3), activation='relu'),\n",
        "    MaxPooling2D(3,3),\n",
        "    Flatten(),\n",
        "    Dense(512, activation='relu'),\n",
        "    Dense(512, activation='relu'),\n",
        "    Dense(512, activation='relu'),\n",
        "    Dense(9, activation='softmax')\n",
        "])"
      ],
      "execution_count": 28,
      "outputs": []
    },
    {
      "cell_type": "markdown",
      "metadata": {
        "id": "SQvR1qXUIoKY"
      },
      "source": [
        "## Compile Optimizer"
      ]
    },
    {
      "cell_type": "code",
      "metadata": {
        "id": "eOAsojzw96LV"
      },
      "source": [
        "model.compile(\n",
        "    loss='categorical_crossentropy',\n",
        "    optimizer=Adam(),\n",
        "    metrics=['accuracy']\n",
        ")"
      ],
      "execution_count": 29,
      "outputs": []
    },
    {
      "cell_type": "markdown",
      "metadata": {
        "id": "V8uj4GHcI-pv"
      },
      "source": [
        "## Callbacks"
      ]
    },
    {
      "cell_type": "code",
      "metadata": {
        "id": "hrAYyizD-kU1"
      },
      "source": [
        "class callback(tf.keras.callbacks.Callback):\n",
        "  def on_epoch_end(self, epoch, logs={}):\n",
        "    if(logs.get('accuracy') >= 0.92 and logs.get('val_accuracy') >= 0.92):  # berhenti training ketika accuracy diatas 92%\n",
        "      print('\\nFor Epoch', epoch, '\\nAccuracy has reach = %2.2f%%' %(logs['accuracy']*100), 'finish training'),\n",
        "      self.model.stop_training = False\n",
        "\n",
        "callbacks = callback()"
      ],
      "execution_count": 53,
      "outputs": []
    },
    {
      "cell_type": "code",
      "metadata": {
        "colab": {
          "base_uri": "https://localhost:8080/"
        },
        "id": "YW1MKE7Y9zTT",
        "outputId": "2079cb6d-6cfa-4b61-eda5-c2d1fe27f81b"
      },
      "source": [
        "model.summary()"
      ],
      "execution_count": 54,
      "outputs": [
        {
          "output_type": "stream",
          "name": "stdout",
          "text": [
            "Model: \"sequential\"\n",
            "_________________________________________________________________\n",
            "Layer (type)                 Output Shape              Param #   \n",
            "=================================================================\n",
            "conv2d (Conv2D)              (None, 148, 148, 16)      448       \n",
            "_________________________________________________________________\n",
            "max_pooling2d (MaxPooling2D) (None, 49, 49, 16)        0         \n",
            "_________________________________________________________________\n",
            "conv2d_1 (Conv2D)            (None, 47, 47, 64)        9280      \n",
            "_________________________________________________________________\n",
            "max_pooling2d_1 (MaxPooling2 (None, 15, 15, 64)        0         \n",
            "_________________________________________________________________\n",
            "conv2d_2 (Conv2D)            (None, 13, 13, 64)        36928     \n",
            "_________________________________________________________________\n",
            "max_pooling2d_2 (MaxPooling2 (None, 4, 4, 64)          0         \n",
            "_________________________________________________________________\n",
            "flatten (Flatten)            (None, 1024)              0         \n",
            "_________________________________________________________________\n",
            "dense (Dense)                (None, 512)               524800    \n",
            "_________________________________________________________________\n",
            "dense_1 (Dense)              (None, 512)               262656    \n",
            "_________________________________________________________________\n",
            "dense_2 (Dense)              (None, 512)               262656    \n",
            "_________________________________________________________________\n",
            "dense_3 (Dense)              (None, 9)                 4617      \n",
            "=================================================================\n",
            "Total params: 1,101,385\n",
            "Trainable params: 1,101,385\n",
            "Non-trainable params: 0\n",
            "_________________________________________________________________\n"
          ]
        }
      ]
    },
    {
      "cell_type": "markdown",
      "metadata": {
        "id": "C4lrRvJUJBN2"
      },
      "source": [
        "# Training"
      ]
    },
    {
      "cell_type": "code",
      "metadata": {
        "colab": {
          "base_uri": "https://localhost:8080/"
        },
        "id": "YB3SYthf_som",
        "outputId": "70a279e9-bb8a-4ec4-9f91-81267fc119bc"
      },
      "source": [
        "fitmodel = model.fit(\n",
        "      train_generator,\n",
        "      steps_per_epoch = 20,  \n",
        "      epochs = 50, \n",
        "      validation_data = val_generator,  \n",
        "      validation_steps= 25,  \n",
        "      verbose=1,   \n",
        "      callbacks = [callbacks]\n",
        ")"
      ],
      "execution_count": 74,
      "outputs": [
        {
          "output_type": "stream",
          "name": "stdout",
          "text": [
            "Epoch 1/50\n",
            "20/20 [==============================] - 9s 440ms/step - loss: 0.1858 - accuracy: 0.9281 - val_loss: 0.4844 - val_accuracy: 0.8500\n",
            "Epoch 2/50\n",
            "20/20 [==============================] - 9s 447ms/step - loss: 0.1873 - accuracy: 0.9500 - val_loss: 0.7334 - val_accuracy: 0.8125\n",
            "Epoch 3/50\n",
            "20/20 [==============================] - 9s 445ms/step - loss: 0.1398 - accuracy: 0.9469 - val_loss: 0.8122 - val_accuracy: 0.8313\n",
            "Epoch 4/50\n",
            "20/20 [==============================] - 9s 450ms/step - loss: 0.2615 - accuracy: 0.9250 - val_loss: 0.7000 - val_accuracy: 0.8188\n",
            "Epoch 5/50\n",
            "20/20 [==============================] - 9s 452ms/step - loss: 0.1863 - accuracy: 0.9250 - val_loss: 0.7670 - val_accuracy: 0.8250\n",
            "Epoch 6/50\n",
            "20/20 [==============================] - 9s 445ms/step - loss: 0.2382 - accuracy: 0.9187 - val_loss: 0.7456 - val_accuracy: 0.8188\n",
            "Epoch 7/50\n",
            "20/20 [==============================] - 9s 447ms/step - loss: 0.1675 - accuracy: 0.9250 - val_loss: 0.4126 - val_accuracy: 0.9000\n",
            "Epoch 8/50\n",
            "20/20 [==============================] - 9s 447ms/step - loss: 0.1918 - accuracy: 0.9281 - val_loss: 0.6140 - val_accuracy: 0.8625\n",
            "Epoch 9/50\n",
            "20/20 [==============================] - 9s 441ms/step - loss: 0.1800 - accuracy: 0.9594 - val_loss: 0.5270 - val_accuracy: 0.8500\n",
            "Epoch 10/50\n",
            "20/20 [==============================] - 9s 444ms/step - loss: 0.1059 - accuracy: 0.9563 - val_loss: 0.7867 - val_accuracy: 0.8562\n",
            "Epoch 11/50\n",
            "20/20 [==============================] - 9s 444ms/step - loss: 0.1520 - accuracy: 0.9344 - val_loss: 0.9943 - val_accuracy: 0.8062\n",
            "Epoch 12/50\n",
            "20/20 [==============================] - 9s 440ms/step - loss: 0.1909 - accuracy: 0.9156 - val_loss: 0.5943 - val_accuracy: 0.8250\n",
            "Epoch 13/50\n",
            "20/20 [==============================] - 9s 446ms/step - loss: 0.1815 - accuracy: 0.9406 - val_loss: 0.8170 - val_accuracy: 0.8000\n",
            "Epoch 14/50\n",
            "20/20 [==============================] - 9s 442ms/step - loss: 0.2034 - accuracy: 0.9406 - val_loss: 0.6029 - val_accuracy: 0.8750\n",
            "Epoch 15/50\n",
            "20/20 [==============================] - 9s 433ms/step - loss: 0.1018 - accuracy: 0.9625 - val_loss: 0.8977 - val_accuracy: 0.7812\n",
            "Epoch 16/50\n",
            "20/20 [==============================] - 9s 436ms/step - loss: 0.1212 - accuracy: 0.9500 - val_loss: 0.8972 - val_accuracy: 0.7937\n",
            "Epoch 17/50\n",
            "20/20 [==============================] - 9s 433ms/step - loss: 0.1891 - accuracy: 0.9312 - val_loss: 0.8014 - val_accuracy: 0.8625\n",
            "Epoch 18/50\n",
            "20/20 [==============================] - 9s 440ms/step - loss: 0.1911 - accuracy: 0.9344 - val_loss: 0.8729 - val_accuracy: 0.8000\n",
            "Epoch 19/50\n",
            "20/20 [==============================] - 9s 437ms/step - loss: 0.1423 - accuracy: 0.9375 - val_loss: 0.6755 - val_accuracy: 0.8438\n",
            "Epoch 20/50\n",
            "20/20 [==============================] - 9s 438ms/step - loss: 0.2122 - accuracy: 0.9344 - val_loss: 0.6867 - val_accuracy: 0.8438\n",
            "Epoch 21/50\n",
            "20/20 [==============================] - 9s 444ms/step - loss: 0.1702 - accuracy: 0.9312 - val_loss: 0.4945 - val_accuracy: 0.8938\n",
            "Epoch 22/50\n",
            "20/20 [==============================] - 9s 435ms/step - loss: 0.2184 - accuracy: 0.9563 - val_loss: 0.7451 - val_accuracy: 0.8125\n",
            "Epoch 23/50\n",
            "20/20 [==============================] - 9s 435ms/step - loss: 0.2631 - accuracy: 0.9187 - val_loss: 1.0635 - val_accuracy: 0.8062\n",
            "Epoch 24/50\n",
            "20/20 [==============================] - 9s 443ms/step - loss: 0.2304 - accuracy: 0.9125 - val_loss: 0.6165 - val_accuracy: 0.8625\n",
            "Epoch 25/50\n",
            "20/20 [==============================] - 9s 443ms/step - loss: 0.1906 - accuracy: 0.9344 - val_loss: 0.5584 - val_accuracy: 0.8250\n",
            "Epoch 26/50\n",
            "20/20 [==============================] - 10s 520ms/step - loss: 0.1807 - accuracy: 0.9438 - val_loss: 0.6410 - val_accuracy: 0.8125\n",
            "Epoch 27/50\n",
            "20/20 [==============================] - 9s 436ms/step - loss: 0.2587 - accuracy: 0.9281 - val_loss: 0.5176 - val_accuracy: 0.8250\n",
            "Epoch 28/50\n",
            "20/20 [==============================] - 9s 441ms/step - loss: 0.1494 - accuracy: 0.9531 - val_loss: 0.6403 - val_accuracy: 0.8687\n",
            "Epoch 29/50\n",
            "20/20 [==============================] - 9s 449ms/step - loss: 0.1510 - accuracy: 0.9469 - val_loss: 0.7808 - val_accuracy: 0.8625\n",
            "Epoch 30/50\n",
            "20/20 [==============================] - 9s 443ms/step - loss: 0.1570 - accuracy: 0.9375 - val_loss: 0.8106 - val_accuracy: 0.8500\n",
            "Epoch 31/50\n",
            "20/20 [==============================] - 9s 441ms/step - loss: 0.1806 - accuracy: 0.9375 - val_loss: 0.8077 - val_accuracy: 0.8062\n",
            "Epoch 32/50\n",
            "20/20 [==============================] - 9s 442ms/step - loss: 0.1785 - accuracy: 0.9531 - val_loss: 0.4382 - val_accuracy: 0.8813\n",
            "Epoch 33/50\n",
            "20/20 [==============================] - 9s 437ms/step - loss: 0.2114 - accuracy: 0.9031 - val_loss: 0.7079 - val_accuracy: 0.8062\n",
            "Epoch 34/50\n",
            "20/20 [==============================] - 9s 445ms/step - loss: 0.1637 - accuracy: 0.9438 - val_loss: 0.7613 - val_accuracy: 0.8375\n",
            "Epoch 35/50\n",
            "20/20 [==============================] - 9s 443ms/step - loss: 0.1591 - accuracy: 0.9375 - val_loss: 0.5781 - val_accuracy: 0.8500\n",
            "Epoch 36/50\n",
            "20/20 [==============================] - 9s 436ms/step - loss: 0.2152 - accuracy: 0.9375 - val_loss: 0.7772 - val_accuracy: 0.8188\n",
            "Epoch 37/50\n",
            "20/20 [==============================] - 9s 442ms/step - loss: 0.2510 - accuracy: 0.9250 - val_loss: 0.7464 - val_accuracy: 0.8250\n",
            "Epoch 38/50\n",
            "20/20 [==============================] - 9s 437ms/step - loss: 0.2236 - accuracy: 0.9375 - val_loss: 0.8844 - val_accuracy: 0.8313\n",
            "Epoch 39/50\n",
            "20/20 [==============================] - 9s 434ms/step - loss: 0.1214 - accuracy: 0.9531 - val_loss: 0.7958 - val_accuracy: 0.8250\n",
            "Epoch 40/50\n",
            "20/20 [==============================] - 9s 436ms/step - loss: 0.1518 - accuracy: 0.9469 - val_loss: 0.9506 - val_accuracy: 0.7875\n",
            "Epoch 41/50\n",
            "20/20 [==============================] - 9s 440ms/step - loss: 0.1125 - accuracy: 0.9531 - val_loss: 1.1839 - val_accuracy: 0.8250\n",
            "Epoch 42/50\n",
            "20/20 [==============================] - 9s 437ms/step - loss: 0.1680 - accuracy: 0.9531 - val_loss: 0.4921 - val_accuracy: 0.8813\n",
            "Epoch 43/50\n",
            "20/20 [==============================] - 9s 441ms/step - loss: 0.2376 - accuracy: 0.9344 - val_loss: 1.0517 - val_accuracy: 0.8125\n",
            "Epoch 44/50\n",
            "20/20 [==============================] - 9s 438ms/step - loss: 0.1623 - accuracy: 0.9375 - val_loss: 0.6908 - val_accuracy: 0.8000\n",
            "Epoch 45/50\n",
            "20/20 [==============================] - 9s 438ms/step - loss: 0.1612 - accuracy: 0.9563 - val_loss: 0.9900 - val_accuracy: 0.7812\n",
            "Epoch 46/50\n",
            "20/20 [==============================] - 9s 436ms/step - loss: 0.1350 - accuracy: 0.9500 - val_loss: 0.7563 - val_accuracy: 0.8375\n",
            "Epoch 47/50\n",
            "20/20 [==============================] - 9s 432ms/step - loss: 0.1194 - accuracy: 0.9594 - val_loss: 0.6834 - val_accuracy: 0.8313\n",
            "Epoch 48/50\n",
            "20/20 [==============================] - 9s 442ms/step - loss: 0.1340 - accuracy: 0.9656 - val_loss: 0.7909 - val_accuracy: 0.8438\n",
            "Epoch 49/50\n",
            "20/20 [==============================] - 9s 437ms/step - loss: 0.1982 - accuracy: 0.9563 - val_loss: 0.4258 - val_accuracy: 0.8875\n",
            "Epoch 50/50\n",
            "20/20 [==============================] - 9s 434ms/step - loss: 0.1760 - accuracy: 0.9438 - val_loss: 0.5274 - val_accuracy: 0.8875\n"
          ]
        }
      ]
    },
    {
      "cell_type": "markdown",
      "metadata": {
        "id": "epMG3qOMMYo_"
      },
      "source": [
        "# Plot Perbandingan"
      ]
    },
    {
      "cell_type": "code",
      "metadata": {
        "id": "ZZhgMmevBW8c"
      },
      "source": [
        "import matplotlib.pyplot as plt"
      ],
      "execution_count": 75,
      "outputs": []
    },
    {
      "cell_type": "markdown",
      "metadata": {
        "id": "yMhSQUpHMgFs"
      },
      "source": [
        "## Accuracy"
      ]
    },
    {
      "cell_type": "code",
      "metadata": {
        "colab": {
          "base_uri": "https://localhost:8080/",
          "height": 312
        },
        "id": "p8ikj1MqKkMj",
        "outputId": "01dd8de5-4e90-4dde-ca09-efbaa3a3701c"
      },
      "source": [
        "epochs = range(len(fitmodel.history['accuracy']))\n",
        "\n",
        "plt.plot(epochs, fitmodel.history['accuracy'], label='Training Accuracy', color='blue')\n",
        "plt.plot(fitmodel.history['val_accuracy'], label='Validation Accuracy', color='green')\n",
        "plt.title('Perbandingan Ukuran Akurasi')\n",
        "plt.ylabel('Accuracy')\n",
        "plt.xlabel('Epoch')\n",
        "plt.legend(loc=0)\n",
        "plt.figure()\n",
        "\n",
        "plt.show()"
      ],
      "execution_count": 76,
      "outputs": [
        {
          "output_type": "display_data",
          "data": {
            "image/png": "[encoded data removed]",
            "text/plain": [
              "<Figure size 432x288 with 1 Axes>"
            ]
          },
          "metadata": {
            "needs_background": "light"
          }
        },
        {
          "output_type": "display_data",
          "data": {
            "text/plain": [
              "<Figure size 432x288 with 0 Axes>"
            ]
          },
          "metadata": {}
        }
      ]
    },
    {
      "cell_type": "markdown",
      "metadata": {
        "id": "rjIV5WIeMkQX"
      },
      "source": [
        "## Loss"
      ]
    },
    {
      "cell_type": "code",
      "metadata": {
        "colab": {
          "base_uri": "https://localhost:8080/",
          "height": 312
        },
        "id": "kWQe7dqrMPHL",
        "outputId": "ca035986-3fb9-4cd6-c1eb-cc337b3cea55"
      },
      "source": [
        "plt.plot(epochs, fitmodel.history['loss'], label='Training Loss', color='blue')\n",
        "plt.plot(epochs, fitmodel.history['val_loss'], label='Validation Loss', color = 'green')\n",
        "plt.title('Loss Training & Validation')\n",
        "plt.ylabel('Accuracy')\n",
        "plt.xlabel('Epoch')\n",
        "plt.legend(loc=0)\n",
        "plt.figure()\n",
        "\n",
        "plt.show()"
      ],
      "execution_count": 77,
      "outputs": [
        {
          "output_type": "display_data",
          "data": {
            "image/png": "[encoded data removed]",
            "text/plain": [
              "<Figure size 432x288 with 1 Axes>"
            ]
          },
          "metadata": {
            "needs_background": "light"
          }
        },
        {
          "output_type": "display_data",
          "data": {
            "text/plain": [
              "<Figure size 432x288 with 0 Axes>"
            ]
          },
          "metadata": {}
        }
      ]
    },
    {
      "cell_type": "markdown",
      "metadata": {
        "id": "VLBmaaqOzjCc"
      },
      "source": [
        "# Deployment format TF-Lite"
      ]
    },
    {
      "cell_type": "code",
      "metadata": {
        "colab": {
          "base_uri": "https://localhost:8080/"
        },
        "id": "JI_F8jWrxMj9",
        "outputId": "491fe81d-2d9d-47d8-a9dc-669e4f5f1554"
      },
      "source": [
        "# Convert Model.\n",
        "converter = tf.lite.TFLiteConverter.from_keras_model(model)\n",
        "tflite_model = converter.convert()\n",
        "\n",
        "# Save the model.\n",
        "with open('RPS_model.tflite', 'wb') as f:\n",
        "  f.write(tflite_model)"
      ],
      "execution_count": 78,
      "outputs": [
        {
          "output_type": "stream",
          "name": "stdout",
          "text": [
            "INFO:tensorflow:Assets written to: /tmp/tmprcv7rhlq/assets\n"
          ]
        },
        {
          "output_type": "stream",
          "name": "stderr",
          "text": [
            "INFO:tensorflow:Assets written to: /tmp/tmprcv7rhlq/assets\n"
          ]
        }
      ]
    },
    {
      "cell_type": "code",
      "metadata": {
        "id": "pVe1ylahltKD"
      },
      "source": [
        ""
      ],
      "execution_count": null,
      "outputs": []
    }
  ]
}